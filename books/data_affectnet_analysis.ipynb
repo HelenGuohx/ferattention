{
 "cells": [
  {
   "cell_type": "code",
   "execution_count": null,
   "metadata": {},
   "outputs": [],
   "source": []
  },
  {
   "cell_type": "code",
   "execution_count": 5,
   "metadata": {},
   "outputs": [
    {
     "name": "stdout",
     "output_type": "stream",
     "text": [
      "/home/pdmf/.datasets/affectnet\n",
      "/home/pdmf/.datasets/affectnet/Manually_Annotated_file_lists\n"
     ]
    }
   ],
   "source": [
    "import os\n",
    "import sys\n",
    "import argparse\n",
    "import numpy as np\n",
    "import pandas as pd\n",
    "\n",
    "import matplotlib.pyplot as plt \n",
    "\n",
    "# Ignore warnings\n",
    "import warnings\n",
    "warnings.filterwarnings(\"ignore\")\n",
    "\n",
    "plt.ion()   # interactive mode\n",
    "\n",
    "pathdata = '~/.datasets'\n",
    "namedataset = 'affectnet'\n",
    "filedata = 'Manually_Annotated_file_lists'\n",
    "\n",
    "pathdata = os.path.expanduser( pathdata )\n",
    "pathnamedataset = os.path.join( pathdata, namedataset )\n",
    "pathfiledata = os.path.join( pathnamedataset, filedata )\n",
    "\n",
    "print(pathnamedataset)\n",
    "print(pathfiledata)\n"
   ]
  },
  {
   "cell_type": "code",
   "execution_count": 14,
   "metadata": {},
   "outputs": [
    {
     "name": "stdout",
     "output_type": "stream",
     "text": [
      "/home/pdmf/.datasets/affectnet/Manually_Annotated_file_lists/validation.csv\n"
     ]
    },
    {
     "data": {
      "text/html": [
       "<div>\n",
       "<style>\n",
       "    .dataframe thead tr:only-child th {\n",
       "        text-align: right;\n",
       "    }\n",
       "\n",
       "    .dataframe thead th {\n",
       "        text-align: left;\n",
       "    }\n",
       "\n",
       "    .dataframe tbody tr th {\n",
       "        vertical-align: top;\n",
       "    }\n",
       "</style>\n",
       "<table border=\"1\" class=\"dataframe\">\n",
       "  <thead>\n",
       "    <tr style=\"text-align: right;\">\n",
       "      <th></th>\n",
       "      <th>subDirectory_filePath</th>\n",
       "      <th>face_x</th>\n",
       "      <th>face_y</th>\n",
       "      <th>face_width</th>\n",
       "      <th>face_height</th>\n",
       "      <th>facial_landmarks</th>\n",
       "      <th>expression</th>\n",
       "      <th>valence</th>\n",
       "      <th>arousal</th>\n",
       "    </tr>\n",
       "  </thead>\n",
       "  <tbody>\n",
       "    <tr>\n",
       "      <th>0</th>\n",
       "      <td>459/81456263be241927c7a59a2646f88c2700ce4b7cba...</td>\n",
       "      <td>147</td>\n",
       "      <td>147</td>\n",
       "      <td>981</td>\n",
       "      <td>981</td>\n",
       "      <td>233.58;512.99;246.97;623.96;262.53;733.87;285....</td>\n",
       "      <td>7</td>\n",
       "      <td>-0.653310</td>\n",
       "      <td>0.653310</td>\n",
       "    </tr>\n",
       "    <tr>\n",
       "      <th>1</th>\n",
       "      <td>680/cfa0c679da3dbe9f01e92cdeda2da1065aa50e7bf0...</td>\n",
       "      <td>99</td>\n",
       "      <td>99</td>\n",
       "      <td>666</td>\n",
       "      <td>666</td>\n",
       "      <td>98.98;341.86;107.43;422.6;123.41;503.32;144.97...</td>\n",
       "      <td>0</td>\n",
       "      <td>-0.176846</td>\n",
       "      <td>-0.077640</td>\n",
       "    </tr>\n",
       "    <tr>\n",
       "      <th>2</th>\n",
       "      <td>1042/83dac9d7eec7fb0bfef79b4d35ddc69a6f7fb458d...</td>\n",
       "      <td>16</td>\n",
       "      <td>16</td>\n",
       "      <td>133</td>\n",
       "      <td>133</td>\n",
       "      <td>42.69;79.9;42.94;90.59;43.83;101.27;44.2;112.5...</td>\n",
       "      <td>0</td>\n",
       "      <td>-0.367789</td>\n",
       "      <td>0.183895</td>\n",
       "    </tr>\n",
       "    <tr>\n",
       "      <th>3</th>\n",
       "      <td>887/49e4872adc501d5e69b8898930bbd4f4e037022874...</td>\n",
       "      <td>78</td>\n",
       "      <td>78</td>\n",
       "      <td>522</td>\n",
       "      <td>522</td>\n",
       "      <td>49.66;304.48;48.91;361.36;52.08;421.7;64.76;48...</td>\n",
       "      <td>4</td>\n",
       "      <td>-0.062911</td>\n",
       "      <td>0.532327</td>\n",
       "    </tr>\n",
       "    <tr>\n",
       "      <th>4</th>\n",
       "      <td>1057/0745dd0386476ae193ca709034378c9207e48ae88...</td>\n",
       "      <td>36</td>\n",
       "      <td>36</td>\n",
       "      <td>258</td>\n",
       "      <td>258</td>\n",
       "      <td>21.82;115.14;18.22;152.92;20.65;190.43;26.14;2...</td>\n",
       "      <td>0</td>\n",
       "      <td>0.004839</td>\n",
       "      <td>-0.004839</td>\n",
       "    </tr>\n",
       "  </tbody>\n",
       "</table>\n",
       "</div>"
      ],
      "text/plain": [
       "                               subDirectory_filePath  face_x  face_y  \\\n",
       "0  459/81456263be241927c7a59a2646f88c2700ce4b7cba...     147     147   \n",
       "1  680/cfa0c679da3dbe9f01e92cdeda2da1065aa50e7bf0...      99      99   \n",
       "2  1042/83dac9d7eec7fb0bfef79b4d35ddc69a6f7fb458d...      16      16   \n",
       "3  887/49e4872adc501d5e69b8898930bbd4f4e037022874...      78      78   \n",
       "4  1057/0745dd0386476ae193ca709034378c9207e48ae88...      36      36   \n",
       "\n",
       "   face_width  face_height                                   facial_landmarks  \\\n",
       "0         981          981  233.58;512.99;246.97;623.96;262.53;733.87;285....   \n",
       "1         666          666  98.98;341.86;107.43;422.6;123.41;503.32;144.97...   \n",
       "2         133          133  42.69;79.9;42.94;90.59;43.83;101.27;44.2;112.5...   \n",
       "3         522          522  49.66;304.48;48.91;361.36;52.08;421.7;64.76;48...   \n",
       "4         258          258  21.82;115.14;18.22;152.92;20.65;190.43;26.14;2...   \n",
       "\n",
       "   expression   valence   arousal  \n",
       "0           7 -0.653310  0.653310  \n",
       "1           0 -0.176846 -0.077640  \n",
       "2           0 -0.367789  0.183895  \n",
       "3           4 -0.062911  0.532327  \n",
       "4           0  0.004839 -0.004839  "
      ]
     },
     "execution_count": 14,
     "metadata": {},
     "output_type": "execute_result"
    }
   ],
   "source": [
    "\n",
    "pathnamedataset_train = os.path.join( pathfiledata, 'training.csv' )\n",
    "pathnamedataset_val = os.path.join( pathfiledata, 'validation.csv' )\n",
    "\n",
    "print(pathnamedataset_val)\n",
    "\n",
    "data = pd.read_csv( pathnamedataset_val )\n",
    "data.head()\n"
   ]
  },
  {
   "cell_type": "code",
   "execution_count": 16,
   "metadata": {},
   "outputs": [
    {
     "data": {
      "text/plain": [
       "'459/81456263be241927c7a59a2646f88c2700ce4b7cba6094570ec2b10c.jpg'"
      ]
     },
     "execution_count": 16,
     "metadata": {},
     "output_type": "execute_result"
    }
   ],
   "source": [
    "data['subDirectory_filePath'][0]"
   ]
  },
  {
   "cell_type": "code",
   "execution_count": null,
   "metadata": {},
   "outputs": [],
   "source": [
    "# Neutral 80,276\n",
    "# Happy 146,198\n",
    "# Sad 29,487\n",
    "# Surprise 16,288\n",
    "# Fear 8,191\n",
    "# Disgust 5,264\n",
    "# Anger 28,130\n",
    "# Contempt 5,135\n",
    "# None 35,322\n",
    "# Uncertain 13,163\n",
    "# Non-Face 88,895"
   ]
  },
  {
   "cell_type": "code",
   "execution_count": 29,
   "metadata": {},
   "outputs": [
    {
     "name": "stdout",
     "output_type": "stream",
     "text": [
      "['Neutral' 'Happy' 'Surprise' 'Sad' 'Anger' 'Disgust' 'Fear' 'Contempt'\n",
      " 'None' 'Uncertain' 'Non-Face']\n",
      "11\n"
     ]
    },
    {
     "data": {
      "image/png": "[encoded data removed]",
      "text/plain": [
       "<matplotlib.figure.Figure at 0x7fa3a63554e0>"
      ]
     },
     "metadata": {},
     "output_type": "display_data"
    }
   ],
   "source": [
    "#emotion_name = ['neutral', 'happiness', 'surprise', 'sadness', 'anger', 'disgust', 'fear', 'contempt', 'None', 'Uncertain', 'Non-Face' ]\n",
    "emotion_name = ['Neutral',  'Happy',     'Sad',      'Surprise', 'Fear', 'Disgust', 'Anger', 'Contempt', 'None', 'Uncertain', 'Non-Face' ]\n",
    "emo2ck = [0,1,3,2,6,5,4,7,8,9,10]\n",
    "print( np.array(emotion_name)[ np.array(emo2ck) ]  )\n",
    "\n",
    "labels = [d for d in data['expression'] ] \n",
    "\n",
    "# Count frequency of each label\n",
    "labels, counts = np.unique(labels, return_counts=True)\n",
    "print(len(counts))\n",
    "\n",
    "# Plot the histogram\n",
    "plt.rcParams[\"figure.figsize\"] = [10, 4]\n",
    "axes = plt.gca()\n",
    "axes.set_xlim([-1,11])\n",
    "\n",
    "plt.bar(labels, counts,  tick_label=emotion_name, width=0.9, align='center')\n",
    "#plt.title('Class Distribution across Training Data')\n",
    "plt.show()"
   ]
  },
  {
   "cell_type": "code",
   "execution_count": 30,
   "metadata": {},
   "outputs": [
    {
     "data": {
      "image/png": "[encoded data removed]",
      "text/plain": [
       "<matplotlib.figure.Figure at 0x7fa3a637b400>"
      ]
     },
     "metadata": {},
     "output_type": "display_data"
    }
   ],
   "source": [
    "plt.style.use('default')\n",
    "\n",
    "emotion_name = ['Neutral',  'Happy',     'Sad',      'Surprise', 'Fear', 'Disgust', 'Anger', 'Contempt', 'None', 'Uncertain', 'Non-Face' ]\n",
    "colors =  np.array(['#1A1A1A','#333333','#4D4D4D','#666666', '#808080', '#999999', '#B3B3B3', '#CCCCCC']) #'#E6E6E6'\n",
    "indx = np.array([0,7,1,2,5,3,4,6], dtype=np.int)\n",
    "\n",
    "fig1, ax1 = plt.subplots()\n",
    "ax1.pie(counts, labels=emotion_name, autopct='%1.1f%%', startangle=90, colors = colors)\n",
    "#draw circle\n",
    "centre_circle = plt.Circle((0,0),0.70,fc='white')\n",
    "fig = plt.gcf()\n",
    "fig.gca().add_artist(centre_circle)\n",
    "# Equal aspect ratio ensures that pie is drawn as a circle\n",
    "ax1.axis('equal')  \n",
    "plt.tight_layout()\n",
    "# plt.savefig('../out/ferp_frec.eps')\n",
    "plt.show()\n",
    "\n"
   ]
  },
  {
   "cell_type": "code",
   "execution_count": null,
   "metadata": {},
   "outputs": [],
   "source": []
  },
  {
   "cell_type": "code",
   "execution_count": null,
   "metadata": {},
   "outputs": [],
   "source": []
  },
  {
   "cell_type": "code",
   "execution_count": null,
   "metadata": {},
   "outputs": [],
   "source": []
  },
  {
   "cell_type": "code",
   "execution_count": null,
   "metadata": {},
   "outputs": [],
   "source": [
    "\n"
   ]
  },
  {
   "cell_type": "code",
   "execution_count": null,
   "metadata": {},
   "outputs": [],
   "source": []
  },
  {
   "cell_type": "code",
   "execution_count": null,
   "metadata": {},
   "outputs": [],
   "source": []
  },
  {
   "cell_type": "code",
   "execution_count": null,
   "metadata": {},
   "outputs": [],
   "source": []
  }
 ],
 "metadata": {
  "kernelspec": {
   "display_name": "Python [default]",
   "language": "python",
   "name": "python3"
  },
  "language_info": {
   "codemirror_mode": {
    "name": "ipython",
    "version": 3
   },
   "file_extension": ".py",
   "mimetype": "text/x-python",
   "name": "python",
   "nbconvert_exporter": "python",
   "pygments_lexer": "ipython3",
   "version": "3.5.4"
  }
 },
 "nbformat": 4,
 "nbformat_minor": 2
}
